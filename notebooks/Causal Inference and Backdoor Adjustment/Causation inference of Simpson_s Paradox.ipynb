{
 "cells": [
  {
   "cell_type": "code",
   "execution_count": 1,
   "id": "45da5217",
   "metadata": {},
   "outputs": [
    {
     "name": "stdout",
     "output_type": "stream",
     "text": [
      "Requirement already satisfied: pgmpy in /opt/anaconda3/lib/python3.9/site-packages (0.1.18)\n",
      "Requirement already satisfied: scikit-learn in /opt/anaconda3/lib/python3.9/site-packages (from pgmpy) (1.0.2)\n",
      "Requirement already satisfied: joblib in /opt/anaconda3/lib/python3.9/site-packages (from pgmpy) (1.1.0)\n",
      "Requirement already satisfied: statsmodels in /opt/anaconda3/lib/python3.9/site-packages (from pgmpy) (0.13.2)\n",
      "Requirement already satisfied: pandas in /opt/anaconda3/lib/python3.9/site-packages (from pgmpy) (1.4.4)\n",
      "Requirement already satisfied: pyparsing in /opt/anaconda3/lib/python3.9/site-packages (from pgmpy) (3.0.9)\n",
      "Requirement already satisfied: tqdm in /opt/anaconda3/lib/python3.9/site-packages (from pgmpy) (4.62.3)\n",
      "Requirement already satisfied: numpy in /opt/anaconda3/lib/python3.9/site-packages (from pgmpy) (1.21.5)\n",
      "Requirement already satisfied: torch in /opt/anaconda3/lib/python3.9/site-packages (from pgmpy) (1.10.2)\n",
      "Requirement already satisfied: networkx in /opt/anaconda3/lib/python3.9/site-packages (from pgmpy) (2.8.4)\n",
      "Requirement already satisfied: scipy in /opt/anaconda3/lib/python3.9/site-packages (from pgmpy) (1.7.3)\n",
      "Requirement already satisfied: python-dateutil>=2.8.1 in /opt/anaconda3/lib/python3.9/site-packages (from pandas->pgmpy) (2.8.2)\n",
      "Requirement already satisfied: pytz>=2020.1 in /opt/anaconda3/lib/python3.9/site-packages (from pandas->pgmpy) (2022.1)\n",
      "Requirement already satisfied: threadpoolctl>=2.0.0 in /opt/anaconda3/lib/python3.9/site-packages (from scikit-learn->pgmpy) (2.2.0)\n",
      "Requirement already satisfied: patsy>=0.5.2 in /opt/anaconda3/lib/python3.9/site-packages (from statsmodels->pgmpy) (0.5.2)\n",
      "Requirement already satisfied: packaging>=21.3 in /opt/anaconda3/lib/python3.9/site-packages (from statsmodels->pgmpy) (21.3)\n",
      "Requirement already satisfied: typing-extensions in /opt/anaconda3/lib/python3.9/site-packages (from torch->pgmpy) (4.3.0)\n",
      "Requirement already satisfied: six in /opt/anaconda3/lib/python3.9/site-packages (from patsy>=0.5.2->statsmodels->pgmpy) (1.16.0)\n"
     ]
    }
   ],
   "source": [
    "!pip install pgmpy"
   ]
  },
  {
   "cell_type": "code",
   "execution_count": 2,
   "id": "ae4227f1",
   "metadata": {},
   "outputs": [
    {
     "name": "stdout",
     "output_type": "stream",
     "text": [
      "Requirement already satisfied: daft in /opt/anaconda3/lib/python3.9/site-packages (0.1.2)\r\n",
      "Requirement already satisfied: setuptools in /opt/anaconda3/lib/python3.9/site-packages (from daft) (63.4.1)\r\n",
      "Requirement already satisfied: matplotlib in /opt/anaconda3/lib/python3.9/site-packages (from daft) (3.5.2)\r\n",
      "Requirement already satisfied: numpy in /opt/anaconda3/lib/python3.9/site-packages (from daft) (1.21.5)\r\n",
      "Requirement already satisfied: pyparsing>=2.2.1 in /opt/anaconda3/lib/python3.9/site-packages (from matplotlib->daft) (3.0.9)\r\n",
      "Requirement already satisfied: packaging>=20.0 in /opt/anaconda3/lib/python3.9/site-packages (from matplotlib->daft) (21.3)\r\n",
      "Requirement already satisfied: fonttools>=4.22.0 in /opt/anaconda3/lib/python3.9/site-packages (from matplotlib->daft) (4.25.0)\r\n",
      "Requirement already satisfied: python-dateutil>=2.7 in /opt/anaconda3/lib/python3.9/site-packages (from matplotlib->daft) (2.8.2)\r\n",
      "Requirement already satisfied: cycler>=0.10 in /opt/anaconda3/lib/python3.9/site-packages (from matplotlib->daft) (0.11.0)\r\n",
      "Requirement already satisfied: pillow>=6.2.0 in /opt/anaconda3/lib/python3.9/site-packages (from matplotlib->daft) (9.2.0)\r\n",
      "Requirement already satisfied: kiwisolver>=1.0.1 in /opt/anaconda3/lib/python3.9/site-packages (from matplotlib->daft) (1.4.2)\r\n",
      "Requirement already satisfied: six>=1.5 in /opt/anaconda3/lib/python3.9/site-packages (from python-dateutil>=2.7->matplotlib->daft) (1.16.0)\r\n"
     ]
    }
   ],
   "source": [
    "!pip install daft"
   ]
  },
  {
   "cell_type": "code",
   "execution_count": 3,
   "id": "8a01b270",
   "metadata": {},
   "outputs": [],
   "source": [
    "from pgmpy.models import BayesianNetwork\n",
    "from pgmpy.inference import VariableElimination\n",
    "from pgmpy.factors.discrete import TabularCPD\n",
    "from pgmpy.inference import CausalInference"
   ]
  },
  {
   "cell_type": "code",
   "execution_count": 4,
   "id": "e00d7ace",
   "metadata": {},
   "outputs": [
    {
     "data": {
      "text/plain": [
       "<Axes:>"
      ]
     },
     "execution_count": 4,
     "metadata": {},
     "output_type": "execute_result"
    },
    {
     "data": {
      "image/png": "[encoded data removed]",
      "text/plain": [
       "<Figure size 370.079x212.598 with 1 Axes>"
      ]
     },
     "metadata": {},
     "output_type": "display_data"
    }
   ],
   "source": [
    "simp_model = BayesianNetwork([(\"Diabetes_012\", \"HeartDiseaseorAttack\"), (\"Age\",\"HeartDiseaseorAttack\"), (\"Age\",\"Diabetes_012\")])\n",
    "simp_model.to_daft(node_pos={\"Diabetes_012\": (0, 0), \"HeartDiseaseorAttack\": (4, 0), \"Age\": (2, 2)}).render()"
   ]
  },
  {
   "cell_type": "code",
   "execution_count": 5,
   "id": "21f6c055",
   "metadata": {},
   "outputs": [],
   "source": [
    "cpd_s = TabularCPD(\n",
    "    variable=\"Age\", variable_card=4, values=[[0.17178985],[0.42913625],[0.33926982],[0.059804097]], state_names={\"Age\": [\"Mid Adult\", \"Old Adult\",\"Senior\",\"Young Adult\"]}\n",
    ")\n",
    "cpd_t = TabularCPD(\n",
    "    variable=\"Diabetes_012\",\n",
    "    variable_card=2,\n",
    "    values=[[0.95023847,0.86479086, 0.80115485, 0.98630136], [0.04976156, 0.13520916, 0.19884515, 0.01369863]],\n",
    "    evidence=[\"Age\"],\n",
    "    evidence_card=[4],\n",
    "    state_names={\"Age\": [\"Mid Adult\", \"Old Adult\",\"Senior\",\"Young Adult\"], \"Diabetes_012\": [0, 1]},\n",
    ")\n",
    "cpd_c = TabularCPD(\n",
    "    variable=\"HeartDiseaseorAttack\",\n",
    "    variable_card=2,\n",
    "    values=[[0.98690814,0.97083336,0.950955,0.83609575,0.858341,0.7412883,0.9933575,0.95652175,], [0.013091861,0.029166667,0.049045015,0.16390423,0.14165902,0.25871173,0.006642512,0.04347826]],\n",
    "    evidence=[\"Age\", \"Diabetes_012\"],\n",
    "    evidence_card=[4,2],\n",
    "    state_names={\"Age\": [\"Mid Adult\", \"Old Adult\",\"Senior\",\"Young Adult\"], \"Diabetes_012\": [0, 1], \"HeartDiseaseorAttack\": [0, 1]},\n",
    ")\n",
    "\n",
    "simp_model.add_cpds(cpd_s, cpd_t, cpd_c)"
   ]
  },
  {
   "cell_type": "code",
   "execution_count": 6,
   "id": "ca734082",
   "metadata": {},
   "outputs": [
    {
     "name": "stdout",
     "output_type": "stream",
     "text": [
      "+------------------+-----------+\n",
      "| Age(Mid Adult)   | 0.17179   |\n",
      "+------------------+-----------+\n",
      "| Age(Old Adult)   | 0.429136  |\n",
      "+------------------+-----------+\n",
      "| Age(Senior)      | 0.33927   |\n",
      "+------------------+-----------+\n",
      "| Age(Young Adult) | 0.0598041 |\n",
      "+------------------+-----------+\n"
     ]
    }
   ],
   "source": [
    "print(simp_model.get_cpds(\"Age\"))"
   ]
  },
  {
   "cell_type": "code",
   "execution_count": 7,
   "id": "8d7ad632",
   "metadata": {},
   "outputs": [
    {
     "name": "stdout",
     "output_type": "stream",
     "text": [
      "+-----------------+----------------+-----+-------------+------------------+\n",
      "| Age             | Age(Mid Adult) | ... | Age(Senior) | Age(Young Adult) |\n",
      "+-----------------+----------------+-----+-------------+------------------+\n",
      "| Diabetes_012(0) | 0.95023847     | ... | 0.80115485  | 0.98630136       |\n",
      "+-----------------+----------------+-----+-------------+------------------+\n",
      "| Diabetes_012(1) | 0.04976156     | ... | 0.19884515  | 0.01369863       |\n",
      "+-----------------+----------------+-----+-------------+------------------+\n"
     ]
    }
   ],
   "source": [
    "print(simp_model.get_cpds(\"Diabetes_012\"))"
   ]
  },
  {
   "cell_type": "code",
   "execution_count": 8,
   "id": "e370ebd5",
   "metadata": {},
   "outputs": [
    {
     "name": "stdout",
     "output_type": "stream",
     "text": [
      "+-------------------------+-----+------------------+\n",
      "| Age                     | ... | Age(Young Adult) |\n",
      "+-------------------------+-----+------------------+\n",
      "| Diabetes_012            | ... | Diabetes_012(1)  |\n",
      "+-------------------------+-----+------------------+\n",
      "| HeartDiseaseorAttack(0) | ... | 0.95652175       |\n",
      "+-------------------------+-----+------------------+\n",
      "| HeartDiseaseorAttack(1) | ... | 0.04347826       |\n",
      "+-------------------------+-----+------------------+\n"
     ]
    }
   ],
   "source": [
    "print(simp_model.get_cpds(\"HeartDiseaseorAttack\"))"
   ]
  },
  {
   "cell_type": "markdown",
   "id": "9dd4f4dd",
   "metadata": {},
   "source": [
    "Calculate unconditional distribution of recovery without any evidence."
   ]
  },
  {
   "cell_type": "code",
   "execution_count": 9,
   "id": "a8f02290",
   "metadata": {},
   "outputs": [
    {
     "data": {
      "application/vnd.jupyter.widget-view+json": {
       "model_id": "4911f068186b4345bf251a28e05d5c39",
       "version_major": 2,
       "version_minor": 0
      },
      "text/plain": [
       "  0%|          | 0/2 [00:00<?, ?it/s]"
      ]
     },
     "metadata": {},
     "output_type": "display_data"
    },
    {
     "data": {
      "application/vnd.jupyter.widget-view+json": {
       "model_id": "e45b429d0de047d4b21f335bdb49aa12",
       "version_major": 2,
       "version_minor": 0
      },
      "text/plain": [
       "  0%|          | 0/2 [00:00<?, ?it/s]"
      ]
     },
     "metadata": {},
     "output_type": "display_data"
    },
    {
     "name": "stdout",
     "output_type": "stream",
     "text": [
      "+-------------------------+-----------------------------+\n",
      "| HeartDiseaseorAttack    |   phi(HeartDiseaseorAttack) |\n",
      "+=========================+=============================+\n",
      "| HeartDiseaseorAttack(0) |                      0.9135 |\n",
      "+-------------------------+-----------------------------+\n",
      "| HeartDiseaseorAttack(1) |                      0.0865 |\n",
      "+-------------------------+-----------------------------+\n"
     ]
    }
   ],
   "source": [
    "infer_non_adjust = VariableElimination(simp_model)\n",
    "print(infer_non_adjust.query(variables=[\"HeartDiseaseorAttack\"]))"
   ]
  },
  {
   "cell_type": "code",
   "execution_count": 10,
   "id": "32033a20",
   "metadata": {},
   "outputs": [
    {
     "data": {
      "application/vnd.jupyter.widget-view+json": {
       "model_id": "a024a44115634dcb9c6f95a4d834466f",
       "version_major": 2,
       "version_minor": 0
      },
      "text/plain": [
       "  0%|          | 0/1 [00:00<?, ?it/s]"
      ]
     },
     "metadata": {},
     "output_type": "display_data"
    },
    {
     "data": {
      "application/vnd.jupyter.widget-view+json": {
       "model_id": "86c6c063cd1b4f1a904f563a9e22c79b",
       "version_major": 2,
       "version_minor": 0
      },
      "text/plain": [
       "  0%|          | 0/1 [00:00<?, ?it/s]"
      ]
     },
     "metadata": {},
     "output_type": "display_data"
    },
    {
     "name": "stdout",
     "output_type": "stream",
     "text": [
      "+-------------------------+-----------------------------+\n",
      "| HeartDiseaseorAttack    |   phi(HeartDiseaseorAttack) |\n",
      "+=========================+=============================+\n",
      "| HeartDiseaseorAttack(0) |                      0.7979 |\n",
      "+-------------------------+-----------------------------+\n",
      "| HeartDiseaseorAttack(1) |                      0.2021 |\n",
      "+-------------------------+-----------------------------+\n"
     ]
    },
    {
     "data": {
      "application/vnd.jupyter.widget-view+json": {
       "model_id": "0438207ad6fd452284e579a9cbeafe72",
       "version_major": 2,
       "version_minor": 0
      },
      "text/plain": [
       "0it [00:00, ?it/s]"
      ]
     },
     "metadata": {},
     "output_type": "display_data"
    },
    {
     "data": {
      "application/vnd.jupyter.widget-view+json": {
       "model_id": "05434e033053458ab2fcfc74fe0ab672",
       "version_major": 2,
       "version_minor": 0
      },
      "text/plain": [
       "0it [00:00, ?it/s]"
      ]
     },
     "metadata": {},
     "output_type": "display_data"
    },
    {
     "name": "stdout",
     "output_type": "stream",
     "text": [
      "+------------------+------------+\n",
      "| Age              |   phi(Age) |\n",
      "+==================+============+\n",
      "| Age(Mid Adult)   |     0.0634 |\n",
      "+------------------+------------+\n",
      "| Age(Old Adult)   |     0.4303 |\n",
      "+------------------+------------+\n",
      "| Age(Senior)      |     0.5003 |\n",
      "+------------------+------------+\n",
      "| Age(Young Adult) |     0.0061 |\n",
      "+------------------+------------+\n"
     ]
    }
   ],
   "source": [
    "#infer_non_adjust = VariableElimination(simp_model)\n",
    "print(infer_non_adjust.query(variables=[\"HeartDiseaseorAttack\"], evidence={\"Diabetes_012\": 1}))\n",
    "print(infer_non_adjust.query(variables=[\"Age\"], evidence={\"Diabetes_012\": 1}))"
   ]
  },
  {
   "cell_type": "code",
   "execution_count": 11,
   "id": "ad04fcfc",
   "metadata": {},
   "outputs": [
    {
     "data": {
      "application/vnd.jupyter.widget-view+json": {
       "model_id": "b609ba30d6b843d78d2b3f4ddd68f320",
       "version_major": 2,
       "version_minor": 0
      },
      "text/plain": [
       "  0%|          | 0/1 [00:00<?, ?it/s]"
      ]
     },
     "metadata": {},
     "output_type": "display_data"
    },
    {
     "data": {
      "application/vnd.jupyter.widget-view+json": {
       "model_id": "aba12110531143269997d79b5838a187",
       "version_major": 2,
       "version_minor": 0
      },
      "text/plain": [
       "  0%|          | 0/1 [00:00<?, ?it/s]"
      ]
     },
     "metadata": {},
     "output_type": "display_data"
    },
    {
     "name": "stdout",
     "output_type": "stream",
     "text": [
      "+-------------------------+-----------------------------+\n",
      "| HeartDiseaseorAttack    |   phi(HeartDiseaseorAttack) |\n",
      "+=========================+=============================+\n",
      "| HeartDiseaseorAttack(0) |                      0.9315 |\n",
      "+-------------------------+-----------------------------+\n",
      "| HeartDiseaseorAttack(1) |                      0.0685 |\n",
      "+-------------------------+-----------------------------+\n"
     ]
    },
    {
     "data": {
      "application/vnd.jupyter.widget-view+json": {
       "model_id": "9e4f11485e344205bce22186c4ccb6d6",
       "version_major": 2,
       "version_minor": 0
      },
      "text/plain": [
       "0it [00:00, ?it/s]"
      ]
     },
     "metadata": {},
     "output_type": "display_data"
    },
    {
     "data": {
      "application/vnd.jupyter.widget-view+json": {
       "model_id": "de74cc2a77f348d19dfb5d6bae272a94",
       "version_major": 2,
       "version_minor": 0
      },
      "text/plain": [
       "0it [00:00, ?it/s]"
      ]
     },
     "metadata": {},
     "output_type": "display_data"
    },
    {
     "name": "stdout",
     "output_type": "stream",
     "text": [
      "+------------------+------------+\n",
      "| Age              |   phi(Age) |\n",
      "+==================+============+\n",
      "| Age(Mid Adult)   |     0.1887 |\n",
      "+------------------+------------+\n",
      "| Age(Old Adult)   |     0.4290 |\n",
      "+------------------+------------+\n",
      "| Age(Senior)      |     0.3142 |\n",
      "+------------------+------------+\n",
      "| Age(Young Adult) |     0.0682 |\n",
      "+------------------+------------+\n"
     ]
    }
   ],
   "source": [
    "print(infer_non_adjust.query(variables=[\"HeartDiseaseorAttack\"], evidence={\"Diabetes_012\": 0}))\n",
    "print(infer_non_adjust.query(variables=[\"Age\"], evidence={\"Diabetes_012\": 0}))"
   ]
  },
  {
   "cell_type": "markdown",
   "id": "9b7d189e",
   "metadata": {},
   "source": [
    "So, what if the variable \"S\" is fixed as well?"
   ]
  },
  {
   "cell_type": "code",
   "execution_count": 12,
   "id": "9a48f764",
   "metadata": {},
   "outputs": [
    {
     "data": {
      "application/vnd.jupyter.widget-view+json": {
       "model_id": "aaa23f2d38e043aab8683b1137011a21",
       "version_major": 2,
       "version_minor": 0
      },
      "text/plain": [
       "0it [00:00, ?it/s]"
      ]
     },
     "metadata": {},
     "output_type": "display_data"
    },
    {
     "data": {
      "application/vnd.jupyter.widget-view+json": {
       "model_id": "6b9f087831c24d328f7f0d5edbc473e9",
       "version_major": 2,
       "version_minor": 0
      },
      "text/plain": [
       "0it [00:00, ?it/s]"
      ]
     },
     "metadata": {},
     "output_type": "display_data"
    },
    {
     "name": "stdout",
     "output_type": "stream",
     "text": [
      "+-------------------------+-----------------------------+\n",
      "| HeartDiseaseorAttack    |   phi(HeartDiseaseorAttack) |\n",
      "+=========================+=============================+\n",
      "| HeartDiseaseorAttack(0) |                      0.7413 |\n",
      "+-------------------------+-----------------------------+\n",
      "| HeartDiseaseorAttack(1) |                      0.2587 |\n",
      "+-------------------------+-----------------------------+\n"
     ]
    }
   ],
   "source": [
    "print(infer_non_adjust.query(variables=[\"HeartDiseaseorAttack\"], evidence={\"Diabetes_012\": 1,\"Age\": \"Senior\"}))"
   ]
  },
  {
   "cell_type": "code",
   "execution_count": 13,
   "id": "2ee5f78e",
   "metadata": {},
   "outputs": [
    {
     "data": {
      "application/vnd.jupyter.widget-view+json": {
       "model_id": "3e5721c19a164e55a25f643d598d879a",
       "version_major": 2,
       "version_minor": 0
      },
      "text/plain": [
       "0it [00:00, ?it/s]"
      ]
     },
     "metadata": {},
     "output_type": "display_data"
    },
    {
     "data": {
      "application/vnd.jupyter.widget-view+json": {
       "model_id": "f23526e50c924b9596bc67cba03b22b6",
       "version_major": 2,
       "version_minor": 0
      },
      "text/plain": [
       "0it [00:00, ?it/s]"
      ]
     },
     "metadata": {},
     "output_type": "display_data"
    },
    {
     "name": "stdout",
     "output_type": "stream",
     "text": [
      "+-------------------------+-----------------------------+\n",
      "| HeartDiseaseorAttack    |   phi(HeartDiseaseorAttack) |\n",
      "+=========================+=============================+\n",
      "| HeartDiseaseorAttack(0) |                      0.8583 |\n",
      "+-------------------------+-----------------------------+\n",
      "| HeartDiseaseorAttack(1) |                      0.1417 |\n",
      "+-------------------------+-----------------------------+\n"
     ]
    }
   ],
   "source": [
    "print(infer_non_adjust.query(variables=[\"HeartDiseaseorAttack\"], evidence={\"Diabetes_012\": 0,\"Age\":\"Senior\"}))"
   ]
  },
  {
   "cell_type": "code",
   "execution_count": 14,
   "id": "a41746db",
   "metadata": {},
   "outputs": [
    {
     "data": {
      "application/vnd.jupyter.widget-view+json": {
       "model_id": "7346948793f14a08b0aee102fdefd13a",
       "version_major": 2,
       "version_minor": 0
      },
      "text/plain": [
       "0it [00:00, ?it/s]"
      ]
     },
     "metadata": {},
     "output_type": "display_data"
    },
    {
     "data": {
      "application/vnd.jupyter.widget-view+json": {
       "model_id": "75ae94f2095a409e907b7e43e321fd39",
       "version_major": 2,
       "version_minor": 0
      },
      "text/plain": [
       "0it [00:00, ?it/s]"
      ]
     },
     "metadata": {},
     "output_type": "display_data"
    },
    {
     "name": "stdout",
     "output_type": "stream",
     "text": [
      "+-------------------------+-----------------------------+\n",
      "| HeartDiseaseorAttack    |   phi(HeartDiseaseorAttack) |\n",
      "+=========================+=============================+\n",
      "| HeartDiseaseorAttack(0) |                      0.8361 |\n",
      "+-------------------------+-----------------------------+\n",
      "| HeartDiseaseorAttack(1) |                      0.1639 |\n",
      "+-------------------------+-----------------------------+\n"
     ]
    },
    {
     "data": {
      "application/vnd.jupyter.widget-view+json": {
       "model_id": "a6a8bfd7d5d04f888ebfbd3a91b762de",
       "version_major": 2,
       "version_minor": 0
      },
      "text/plain": [
       "0it [00:00, ?it/s]"
      ]
     },
     "metadata": {},
     "output_type": "display_data"
    },
    {
     "data": {
      "application/vnd.jupyter.widget-view+json": {
       "model_id": "faf2ba5173f64aca8bd9153a3900235f",
       "version_major": 2,
       "version_minor": 0
      },
      "text/plain": [
       "0it [00:00, ?it/s]"
      ]
     },
     "metadata": {},
     "output_type": "display_data"
    },
    {
     "name": "stdout",
     "output_type": "stream",
     "text": [
      "+-------------------------+-----------------------------+\n",
      "| HeartDiseaseorAttack    |   phi(HeartDiseaseorAttack) |\n",
      "+=========================+=============================+\n",
      "| HeartDiseaseorAttack(0) |                      0.9510 |\n",
      "+-------------------------+-----------------------------+\n",
      "| HeartDiseaseorAttack(1) |                      0.0490 |\n",
      "+-------------------------+-----------------------------+\n"
     ]
    }
   ],
   "source": [
    "print(infer_non_adjust.query(variables=[\"HeartDiseaseorAttack\"], evidence={\"Diabetes_012\": 1,\"Age\": \"Old Adult\"}))\n",
    "print(infer_non_adjust.query(variables=[\"HeartDiseaseorAttack\"], evidence={\"Diabetes_012\": 0,\"Age\": \"Old Adult\"}))"
   ]
  },
  {
   "cell_type": "code",
   "execution_count": 15,
   "id": "61f2e95f",
   "metadata": {},
   "outputs": [
    {
     "data": {
      "application/vnd.jupyter.widget-view+json": {
       "model_id": "debe023266064f30882ef8368eeb42b5",
       "version_major": 2,
       "version_minor": 0
      },
      "text/plain": [
       "0it [00:00, ?it/s]"
      ]
     },
     "metadata": {},
     "output_type": "display_data"
    },
    {
     "data": {
      "application/vnd.jupyter.widget-view+json": {
       "model_id": "3e74c58dd1c34fe9922fe7850a52c4c0",
       "version_major": 2,
       "version_minor": 0
      },
      "text/plain": [
       "0it [00:00, ?it/s]"
      ]
     },
     "metadata": {},
     "output_type": "display_data"
    },
    {
     "name": "stdout",
     "output_type": "stream",
     "text": [
      "+-------------------------+-----------------------------+\n",
      "| HeartDiseaseorAttack    |   phi(HeartDiseaseorAttack) |\n",
      "+=========================+=============================+\n",
      "| HeartDiseaseorAttack(0) |                      0.9708 |\n",
      "+-------------------------+-----------------------------+\n",
      "| HeartDiseaseorAttack(1) |                      0.0292 |\n",
      "+-------------------------+-----------------------------+\n"
     ]
    },
    {
     "data": {
      "application/vnd.jupyter.widget-view+json": {
       "model_id": "407492a5c3484728a0b936f54eeb8ecf",
       "version_major": 2,
       "version_minor": 0
      },
      "text/plain": [
       "0it [00:00, ?it/s]"
      ]
     },
     "metadata": {},
     "output_type": "display_data"
    },
    {
     "data": {
      "application/vnd.jupyter.widget-view+json": {
       "model_id": "a3bee862ae1f4fb7a2c642073abfb7f1",
       "version_major": 2,
       "version_minor": 0
      },
      "text/plain": [
       "0it [00:00, ?it/s]"
      ]
     },
     "metadata": {},
     "output_type": "display_data"
    },
    {
     "name": "stdout",
     "output_type": "stream",
     "text": [
      "+-------------------------+-----------------------------+\n",
      "| HeartDiseaseorAttack    |   phi(HeartDiseaseorAttack) |\n",
      "+=========================+=============================+\n",
      "| HeartDiseaseorAttack(0) |                      0.9869 |\n",
      "+-------------------------+-----------------------------+\n",
      "| HeartDiseaseorAttack(1) |                      0.0131 |\n",
      "+-------------------------+-----------------------------+\n"
     ]
    }
   ],
   "source": [
    "print(infer_non_adjust.query(variables=[\"HeartDiseaseorAttack\"], evidence={\"Diabetes_012\": 1,\"Age\": \"Mid Adult\"}))\n",
    "print(infer_non_adjust.query(variables=[\"HeartDiseaseorAttack\"], evidence={\"Diabetes_012\": 0,\"Age\": \"Mid Adult\"}))"
   ]
  },
  {
   "cell_type": "code",
   "execution_count": 16,
   "id": "2c90699d",
   "metadata": {},
   "outputs": [
    {
     "data": {
      "application/vnd.jupyter.widget-view+json": {
       "model_id": "1352acb162f54d5c9b437dc49d039256",
       "version_major": 2,
       "version_minor": 0
      },
      "text/plain": [
       "0it [00:00, ?it/s]"
      ]
     },
     "metadata": {},
     "output_type": "display_data"
    },
    {
     "data": {
      "application/vnd.jupyter.widget-view+json": {
       "model_id": "244e67d627f542e2b0549cdccd29773c",
       "version_major": 2,
       "version_minor": 0
      },
      "text/plain": [
       "0it [00:00, ?it/s]"
      ]
     },
     "metadata": {},
     "output_type": "display_data"
    },
    {
     "name": "stdout",
     "output_type": "stream",
     "text": [
      "+-------------------------+-----------------------------+\n",
      "| HeartDiseaseorAttack    |   phi(HeartDiseaseorAttack) |\n",
      "+=========================+=============================+\n",
      "| HeartDiseaseorAttack(0) |                      0.9565 |\n",
      "+-------------------------+-----------------------------+\n",
      "| HeartDiseaseorAttack(1) |                      0.0435 |\n",
      "+-------------------------+-----------------------------+\n"
     ]
    },
    {
     "data": {
      "application/vnd.jupyter.widget-view+json": {
       "model_id": "30a0cb1820684497a9af6c93f590cf3d",
       "version_major": 2,
       "version_minor": 0
      },
      "text/plain": [
       "0it [00:00, ?it/s]"
      ]
     },
     "metadata": {},
     "output_type": "display_data"
    },
    {
     "data": {
      "application/vnd.jupyter.widget-view+json": {
       "model_id": "f43faf4dd0634f7d8756cecc5cab3639",
       "version_major": 2,
       "version_minor": 0
      },
      "text/plain": [
       "0it [00:00, ?it/s]"
      ]
     },
     "metadata": {},
     "output_type": "display_data"
    },
    {
     "name": "stdout",
     "output_type": "stream",
     "text": [
      "+-------------------------+-----------------------------+\n",
      "| HeartDiseaseorAttack    |   phi(HeartDiseaseorAttack) |\n",
      "+=========================+=============================+\n",
      "| HeartDiseaseorAttack(0) |                      0.9934 |\n",
      "+-------------------------+-----------------------------+\n",
      "| HeartDiseaseorAttack(1) |                      0.0066 |\n",
      "+-------------------------+-----------------------------+\n"
     ]
    }
   ],
   "source": [
    "print(infer_non_adjust.query(variables=[\"HeartDiseaseorAttack\"], evidence={\"Diabetes_012\": 1,\"Age\": \"Young Adult\"}))\n",
    "print(infer_non_adjust.query(variables=[\"HeartDiseaseorAttack\"], evidence={\"Diabetes_012\": 0,\"Age\": \"Young Adult\"}))"
   ]
  },
  {
   "cell_type": "markdown",
   "id": "f64e4ebe",
   "metadata": {},
   "source": [
    "The key observation is: Age is a confounding factor"
   ]
  },
  {
   "cell_type": "markdown",
   "id": "37605448",
   "metadata": {},
   "source": [
    "Create a new DAG by applying \"do(T=1)\" to the model. Plot the new DAG."
   ]
  },
  {
   "cell_type": "code",
   "execution_count": 17,
   "id": "db183647",
   "metadata": {},
   "outputs": [],
   "source": [
    "do_Diabetes=simp_model.do(['Diabetes_012'])"
   ]
  },
  {
   "cell_type": "code",
   "execution_count": 18,
   "id": "b26210d1",
   "metadata": {},
   "outputs": [
    {
     "data": {
      "text/plain": [
       "<Axes:>"
      ]
     },
     "execution_count": 18,
     "metadata": {},
     "output_type": "execute_result"
    },
    {
     "data": {
      "image/png": "[encoded data removed]",
      "text/plain": [
       "<Figure size 212.598x133.858 with 1 Axes>"
      ]
     },
     "metadata": {},
     "output_type": "display_data"
    }
   ],
   "source": [
    "do_Diabetes.to_daft(node_pos={\"Diabetes_012\": (0, 0), \"HeartDiseaseorAttack\": (2, 0), \"Age\": (1, 1)}).render()"
   ]
  },
  {
   "cell_type": "markdown",
   "id": "27fd8527",
   "metadata": {},
   "source": [
    "Making \"do(T=1)\" removes dependence of selection for treatment on age. The initial unconditional ditribution of \"Age\" remains unchanged, of course. Other unconditional distributions, except for the node \"Diabetes_012\" are also the same."
   ]
  },
  {
   "cell_type": "code",
   "execution_count": 19,
   "id": "94d64efe",
   "metadata": {},
   "outputs": [
    {
     "name": "stdout",
     "output_type": "stream",
     "text": [
      "+------------------+-----------+\n",
      "| Age(Mid Adult)   | 0.17179   |\n",
      "+------------------+-----------+\n",
      "| Age(Old Adult)   | 0.429136  |\n",
      "+------------------+-----------+\n",
      "| Age(Senior)      | 0.33927   |\n",
      "+------------------+-----------+\n",
      "| Age(Young Adult) | 0.0598041 |\n",
      "+------------------+-----------+\n"
     ]
    }
   ],
   "source": [
    "print(do_Diabetes.get_cpds(\"Age\"))"
   ]
  },
  {
   "cell_type": "code",
   "execution_count": 20,
   "id": "f1f9e315",
   "metadata": {},
   "outputs": [
    {
     "name": "stdout",
     "output_type": "stream",
     "text": [
      "+-----------------+-----------+\n",
      "| Diabetes_012(0) | 0.900621  |\n",
      "+-----------------+-----------+\n",
      "| Diabetes_012(1) | 0.0993786 |\n",
      "+-----------------+-----------+\n"
     ]
    }
   ],
   "source": [
    "print(do_Diabetes.get_cpds(\"Diabetes_012\"))"
   ]
  },
  {
   "cell_type": "code",
   "execution_count": 21,
   "id": "1176c528",
   "metadata": {},
   "outputs": [
    {
     "name": "stdout",
     "output_type": "stream",
     "text": [
      "+-------------------------+-----+------------------+\n",
      "| Age                     | ... | Age(Young Adult) |\n",
      "+-------------------------+-----+------------------+\n",
      "| Diabetes_012            | ... | Diabetes_012(1)  |\n",
      "+-------------------------+-----+------------------+\n",
      "| HeartDiseaseorAttack(0) | ... | 0.95652175       |\n",
      "+-------------------------+-----+------------------+\n",
      "| HeartDiseaseorAttack(1) | ... | 0.04347826       |\n",
      "+-------------------------+-----+------------------+\n"
     ]
    }
   ],
   "source": [
    "print(do_Diabetes.get_cpds(\"HeartDiseaseorAttack\"))"
   ]
  },
  {
   "cell_type": "markdown",
   "id": "05c4455e",
   "metadata": {},
   "source": [
    "Presenting evidence to the mutilated graph gives the following:\n",
    "\n",
    "evidence={\"Diabetes\": 0}"
   ]
  },
  {
   "cell_type": "code",
   "execution_count": 22,
   "id": "90128e00",
   "metadata": {},
   "outputs": [
    {
     "name": "stdout",
     "output_type": "stream",
     "text": [
      "+-------------------------+-----------------------------+\n",
      "| HeartDiseaseorAttack    |   phi(HeartDiseaseorAttack) |\n",
      "+=========================+=============================+\n",
      "| HeartDiseaseorAttack(0) |                      0.9282 |\n",
      "+-------------------------+-----------------------------+\n",
      "| HeartDiseaseorAttack(1) |                      0.0718 |\n",
      "+-------------------------+-----------------------------+\n"
     ]
    }
   ],
   "source": [
    "infer_do_Diabetes= CausalInference(do_Diabetes)\n",
    "print(infer_do_Diabetes.query(variables=[\"HeartDiseaseorAttack\"], evidence={\"Diabetes_012\": 0}))"
   ]
  },
  {
   "cell_type": "markdown",
   "id": "d083e4b2",
   "metadata": {},
   "source": [
    "evidence={\"Diabetes\": 1}"
   ]
  },
  {
   "cell_type": "code",
   "execution_count": 23,
   "id": "9bbdeb53",
   "metadata": {},
   "outputs": [
    {
     "name": "stdout",
     "output_type": "stream",
     "text": [
      "+-------------------------+-----------------------------+\n",
      "| HeartDiseaseorAttack    |   phi(HeartDiseaseorAttack) |\n",
      "+=========================+=============================+\n",
      "| HeartDiseaseorAttack(0) |                      0.8343 |\n",
      "+-------------------------+-----------------------------+\n",
      "| HeartDiseaseorAttack(1) |                      0.1657 |\n",
      "+-------------------------+-----------------------------+\n"
     ]
    }
   ],
   "source": [
    "print(infer_do_Diabetes.query(variables=[\"HeartDiseaseorAttack\"], evidence={\"Diabetes_012\": 1}))"
   ]
  },
  {
   "cell_type": "markdown",
   "id": "98a7a0e6",
   "metadata": {},
   "source": [
    "While state distribution of the node \"Age\" remains unchanged."
   ]
  },
  {
   "cell_type": "code",
   "execution_count": 24,
   "id": "f0a089db",
   "metadata": {},
   "outputs": [
    {
     "name": "stdout",
     "output_type": "stream",
     "text": [
      "+------------------+------------+\n",
      "| Age              |   phi(Age) |\n",
      "+==================+============+\n",
      "| Age(Mid Adult)   |     0.1718 |\n",
      "+------------------+------------+\n",
      "| Age(Old Adult)   |     0.4291 |\n",
      "+------------------+------------+\n",
      "| Age(Senior)      |     0.3393 |\n",
      "+------------------+------------+\n",
      "| Age(Young Adult) |     0.0598 |\n",
      "+------------------+------------+\n"
     ]
    }
   ],
   "source": [
    "print(infer_do_Diabetes.query(variables=[\"Age\"], evidence={\"Diabetes_012\": 0}))"
   ]
  },
  {
   "cell_type": "code",
   "execution_count": 25,
   "id": "6277ad25",
   "metadata": {},
   "outputs": [
    {
     "name": "stdout",
     "output_type": "stream",
     "text": [
      "+------------------+------------+\n",
      "| Age              |   phi(Age) |\n",
      "+==================+============+\n",
      "| Age(Mid Adult)   |     0.1718 |\n",
      "+------------------+------------+\n",
      "| Age(Old Adult)   |     0.4291 |\n",
      "+------------------+------------+\n",
      "| Age(Senior)      |     0.3393 |\n",
      "+------------------+------------+\n",
      "| Age(Young Adult) |     0.0598 |\n",
      "+------------------+------------+\n"
     ]
    }
   ],
   "source": [
    "print(infer_do_Diabetes.query(variables=[\"Age\"], evidence={\"Diabetes_012\": 1}))"
   ]
  },
  {
   "cell_type": "markdown",
   "id": "409ec70e",
   "metadata": {},
   "source": [
    "Calculate the causal effect as Average Causal Effect (ACE), a.k.a. Average Treatment Effect (ATE), which is\n",
    "P\n",
    "(\n",
    "R\n",
    "=\n",
    "1\n",
    "|\n",
    "d\n",
    "o\n",
    "(\n",
    "T\n",
    "=\n",
    "1\n",
    ")\n",
    ")\n",
    "−\n",
    "P\n",
    "(\n",
    "R\n",
    "=\n",
    "1\n",
    "|\n",
    "d\n",
    "o\n",
    "(\n",
    "T\n",
    "=\n",
    "0\n",
    ")\n",
    ")\n",
    ".\n",
    "First, simulate new data using the mutilated model do_T.\n"
   ]
  },
  {
   "cell_type": "code",
   "execution_count": 26,
   "id": "81ed8ec4",
   "metadata": {
    "scrolled": true
   },
   "outputs": [
    {
     "data": {
      "application/vnd.jupyter.widget-view+json": {
       "model_id": "9c365e38d69040e08433b612eba5a84e",
       "version_major": 2,
       "version_minor": 0
      },
      "text/plain": [
       "  0%|          | 0/3 [00:00<?, ?it/s]"
      ]
     },
     "metadata": {},
     "output_type": "display_data"
    },
    {
     "name": "stdout",
     "output_type": "stream",
     "text": [
      "      Diabetes_012  HeartDiseaseorAttack        Age\n",
      "0                0                     0  Old Adult\n",
      "1                0                     0  Old Adult\n",
      "2                1                     0  Mid Adult\n",
      "3                0                     0     Senior\n",
      "4                0                     1     Senior\n",
      "...            ...                   ...        ...\n",
      "9995             0                     0     Senior\n",
      "9996             0                     0  Old Adult\n",
      "9997             0                     0  Old Adult\n",
      "9998             0                     0     Senior\n",
      "9999             0                     1     Senior\n",
      "\n",
      "[10000 rows x 3 columns]\n"
     ]
    },
    {
     "name": "stderr",
     "output_type": "stream",
     "text": [
      "/opt/anaconda3/lib/python3.9/site-packages/pgmpy/utils/mathext.py:83: UserWarning: Probability values don't exactly sum to 1. Differ by: -1.7000000074318677e-08. Adjusting values.\n",
      "  warn(\n",
      "/opt/anaconda3/lib/python3.9/site-packages/pgmpy/models/BayesianNetwork.py:1227: FutureWarning: Passing a set as an indexer is deprecated and will raise in a future version. Use a list instead.\n",
      "  return samples.loc[:, set(self.nodes()) - self.latents]\n"
     ]
    }
   ],
   "source": [
    "mm_do_Diabetes=do_Diabetes.simulate(n_samples=10000)\n",
    "print(mm_do_Diabetes)"
   ]
  },
  {
   "cell_type": "markdown",
   "id": "54a659cd",
   "metadata": {},
   "source": [
    "Then do the inference using estimate_ate()."
   ]
  },
  {
   "cell_type": "code",
   "execution_count": 27,
   "id": "85d68f0f",
   "metadata": {},
   "outputs": [],
   "source": [
    "#import pandas as pd"
   ]
  },
  {
   "cell_type": "code",
   "execution_count": 28,
   "id": "2b4a2d9b",
   "metadata": {
    "scrolled": true
   },
   "outputs": [],
   "source": [
    "#mm_do_Diabetes = pd.get_dummies(mm_do_Diabetes, columns=['Age','HeartDiseaseorAttack'])"
   ]
  },
  {
   "cell_type": "code",
   "execution_count": 29,
   "id": "505f5f12",
   "metadata": {
    "scrolled": true
   },
   "outputs": [
    {
     "data": {
      "text/html": [
       "<div>\n",
       "<style scoped>\n",
       "    .dataframe tbody tr th:only-of-type {\n",
       "        vertical-align: middle;\n",
       "    }\n",
       "\n",
       "    .dataframe tbody tr th {\n",
       "        vertical-align: top;\n",
       "    }\n",
       "\n",
       "    .dataframe thead th {\n",
       "        text-align: right;\n",
       "    }\n",
       "</style>\n",
       "<table border=\"1\" class=\"dataframe\">\n",
       "  <thead>\n",
       "    <tr style=\"text-align: right;\">\n",
       "      <th></th>\n",
       "      <th>Diabetes_012</th>\n",
       "      <th>HeartDiseaseorAttack</th>\n",
       "      <th>Age</th>\n",
       "    </tr>\n",
       "  </thead>\n",
       "  <tbody>\n",
       "    <tr>\n",
       "      <th>0</th>\n",
       "      <td>0</td>\n",
       "      <td>0</td>\n",
       "      <td>Old Adult</td>\n",
       "    </tr>\n",
       "    <tr>\n",
       "      <th>1</th>\n",
       "      <td>0</td>\n",
       "      <td>0</td>\n",
       "      <td>Old Adult</td>\n",
       "    </tr>\n",
       "    <tr>\n",
       "      <th>2</th>\n",
       "      <td>1</td>\n",
       "      <td>0</td>\n",
       "      <td>Mid Adult</td>\n",
       "    </tr>\n",
       "    <tr>\n",
       "      <th>3</th>\n",
       "      <td>0</td>\n",
       "      <td>0</td>\n",
       "      <td>Senior</td>\n",
       "    </tr>\n",
       "    <tr>\n",
       "      <th>4</th>\n",
       "      <td>0</td>\n",
       "      <td>1</td>\n",
       "      <td>Senior</td>\n",
       "    </tr>\n",
       "    <tr>\n",
       "      <th>...</th>\n",
       "      <td>...</td>\n",
       "      <td>...</td>\n",
       "      <td>...</td>\n",
       "    </tr>\n",
       "    <tr>\n",
       "      <th>9995</th>\n",
       "      <td>0</td>\n",
       "      <td>0</td>\n",
       "      <td>Senior</td>\n",
       "    </tr>\n",
       "    <tr>\n",
       "      <th>9996</th>\n",
       "      <td>0</td>\n",
       "      <td>0</td>\n",
       "      <td>Old Adult</td>\n",
       "    </tr>\n",
       "    <tr>\n",
       "      <th>9997</th>\n",
       "      <td>0</td>\n",
       "      <td>0</td>\n",
       "      <td>Old Adult</td>\n",
       "    </tr>\n",
       "    <tr>\n",
       "      <th>9998</th>\n",
       "      <td>0</td>\n",
       "      <td>0</td>\n",
       "      <td>Senior</td>\n",
       "    </tr>\n",
       "    <tr>\n",
       "      <th>9999</th>\n",
       "      <td>0</td>\n",
       "      <td>1</td>\n",
       "      <td>Senior</td>\n",
       "    </tr>\n",
       "  </tbody>\n",
       "</table>\n",
       "<p>10000 rows × 3 columns</p>\n",
       "</div>"
      ],
      "text/plain": [
       "      Diabetes_012  HeartDiseaseorAttack        Age\n",
       "0                0                     0  Old Adult\n",
       "1                0                     0  Old Adult\n",
       "2                1                     0  Mid Adult\n",
       "3                0                     0     Senior\n",
       "4                0                     1     Senior\n",
       "...            ...                   ...        ...\n",
       "9995             0                     0     Senior\n",
       "9996             0                     0  Old Adult\n",
       "9997             0                     0  Old Adult\n",
       "9998             0                     0     Senior\n",
       "9999             0                     1     Senior\n",
       "\n",
       "[10000 rows x 3 columns]"
      ]
     },
     "execution_count": 29,
     "metadata": {},
     "output_type": "execute_result"
    }
   ],
   "source": [
    "mm_do_Diabetes"
   ]
  },
  {
   "cell_type": "code",
   "execution_count": 30,
   "id": "fa5737cd",
   "metadata": {},
   "outputs": [
    {
     "name": "stdout",
     "output_type": "stream",
     "text": [
      "<class 'pandas.core.frame.DataFrame'>\n",
      "RangeIndex: 10000 entries, 0 to 9999\n",
      "Data columns (total 3 columns):\n",
      " #   Column                Non-Null Count  Dtype \n",
      "---  ------                --------------  ----- \n",
      " 0   Diabetes_012          10000 non-null  int64 \n",
      " 1   HeartDiseaseorAttack  10000 non-null  int64 \n",
      " 2   Age                   10000 non-null  object\n",
      "dtypes: int64(2), object(1)\n",
      "memory usage: 234.5+ KB\n"
     ]
    }
   ],
   "source": [
    "mm_do_Diabetes.info()"
   ]
  },
  {
   "cell_type": "code",
   "execution_count": 31,
   "id": "c59ca94b",
   "metadata": {
    "scrolled": true
   },
   "outputs": [
    {
     "data": {
      "text/plain": [
       "0.1064117111222927"
      ]
     },
     "execution_count": 31,
     "metadata": {},
     "output_type": "execute_result"
    }
   ],
   "source": [
    "inference = CausalInference(model=do_Diabetes)\n",
    "inference.estimate_ate(\"Diabetes_012\", \"HeartDiseaseorAttack\", data=mm_do_Diabetes, estimator_type=\"linear\")"
   ]
  },
  {
   "cell_type": "code",
   "execution_count": null,
   "id": "c9252adb",
   "metadata": {},
   "outputs": [],
   "source": []
  }
 ],
 "metadata": {
  "kernelspec": {
   "display_name": "Python 3 (ipykernel)",
   "language": "python",
   "name": "python3"
  },
  "language_info": {
   "codemirror_mode": {
    "name": "ipython",
    "version": 3
   },
   "file_extension": ".py",
   "mimetype": "text/x-python",
   "name": "python",
   "nbconvert_exporter": "python",
   "pygments_lexer": "ipython3",
   "version": "3.9.7"
  }
 },
 "nbformat": 4,
 "nbformat_minor": 5
}
